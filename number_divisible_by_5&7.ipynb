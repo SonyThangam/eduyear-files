{
  "nbformat": 4,
  "nbformat_minor": 0,
  "metadata": {
    "colab": {
      "name": "number divisible by 5&7.ipynb",
      "provenance": [],
      "collapsed_sections": [],
      "authorship_tag": "ABX9TyM/s8Ip0BHS1XKRl554mBbP",
      "include_colab_link": true
    },
    "kernelspec": {
      "name": "python3",
      "display_name": "Python 3"
    },
    "language_info": {
      "name": "python"
    }
  },
  "cells": [
    {
      "cell_type": "markdown",
      "metadata": {
        "id": "view-in-github",
        "colab_type": "text"
      },
      "source": [
        "<a href=\"https://colab.research.google.com/github/SonyThangam/eduyear-files/blob/main/number_divisible_by_5%267.ipynb\" target=\"_parent\"><img src=\"https://colab.research.google.com/assets/colab-badge.svg\" alt=\"Open In Colab\"/></a>"
      ]
    },
    {
      "cell_type": "code",
      "metadata": {
        "colab": {
          "base_uri": "https://localhost:8080/"
        },
        "id": "8_THbZH-8C6Q",
        "outputId": "8864027a-0020-42b4-898e-265062e0f5c1"
      },
      "source": [
        "# enter the starting range number\n",
        "start_num = int(29)\n",
        "\n",
        "# enter the ending range number\n",
        "end_num = int(36)\n",
        "\n",
        "# initialise counter with starting number\n",
        "cnt = start_num\n",
        "\n",
        "# check until end of the range is achieved\n",
        "while cnt <= end_num:\n",
        "\t\n",
        "\t# if number divisible by 7 and 5\n",
        "\tif cnt % 7 == 0 and cnt % 5 == 0:\n",
        "\t\tprint(cnt, \" is divisible by 7 and 5.\")\n",
        "\t\t\n",
        "\t# increment counter\n",
        "\tcnt += 1\n"
      ],
      "execution_count": 1,
      "outputs": [
        {
          "output_type": "stream",
          "text": [
            "35  is divisible by 7 and 5.\n"
          ],
          "name": "stdout"
        }
      ]
    },
    {
      "cell_type": "code",
      "metadata": {
        "id": "mf73ZyEg8vW9"
      },
      "source": [
        ""
      ],
      "execution_count": null,
      "outputs": []
    }
  ]
}
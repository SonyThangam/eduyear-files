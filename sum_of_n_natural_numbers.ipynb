{
  "nbformat": 4,
  "nbformat_minor": 0,
  "metadata": {
    "colab": {
      "name": "sum of n natural numbers.ipynb",
      "provenance": [],
      "authorship_tag": "ABX9TyPgq+61YrYH7fEub+PrdqT9",
      "include_colab_link": true
    },
    "kernelspec": {
      "name": "python3",
      "display_name": "Python 3"
    },
    "language_info": {
      "name": "python"
    }
  },
  "cells": [
    {
      "cell_type": "markdown",
      "metadata": {
        "id": "view-in-github",
        "colab_type": "text"
      },
      "source": [
        "<a href=\"https://colab.research.google.com/github/SonyThangam/eduyear-files/blob/main/sum_of_n_natural_numbers.ipynb\" target=\"_parent\"><img src=\"https://colab.research.google.com/assets/colab-badge.svg\" alt=\"Open In Colab\"/></a>"
      ]
    },
    {
      "cell_type": "code",
      "metadata": {
        "colab": {
          "base_uri": "https://localhost:8080/"
        },
        "id": "o8SPsJzQDtaW",
        "outputId": "2d978532-9434-4688-de24-fc67c6c6daf4"
      },
      "source": [
        "num = int(input(\"Enter a number: \"))  \n",
        "  \n",
        "if num < 0:  \n",
        "   print(\"Enter a positive number\")  \n",
        "else:  \n",
        "   sum = 0  \n",
        "   # use while loop to iterate un till zero  \n",
        "   while(num > 0):  \n",
        "       sum += num  \n",
        "       num -= 1  \n",
        "   print(\"The sum is\",sum)  "
      ],
      "execution_count": 1,
      "outputs": [
        {
          "output_type": "stream",
          "text": [
            "Enter a number: 50\n",
            "The sum is 1275\n"
          ],
          "name": "stdout"
        }
      ]
    }
  ]
}
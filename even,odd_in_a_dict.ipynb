{
  "nbformat": 4,
  "nbformat_minor": 0,
  "metadata": {
    "colab": {
      "name": "even,odd in a dict.ipynb",
      "provenance": [],
      "authorship_tag": "ABX9TyNThOBWQyhYIxEVHY6xmk1v",
      "include_colab_link": true
    },
    "kernelspec": {
      "name": "python3",
      "display_name": "Python 3"
    },
    "language_info": {
      "name": "python"
    }
  },
  "cells": [
    {
      "cell_type": "markdown",
      "metadata": {
        "id": "view-in-github",
        "colab_type": "text"
      },
      "source": [
        "<a href=\"https://colab.research.google.com/github/SonyThangam/eduyear-files/blob/main/even%2Codd_in_a_dict.ipynb\" target=\"_parent\"><img src=\"https://colab.research.google.com/assets/colab-badge.svg\" alt=\"Open In Colab\"/></a>"
      ]
    },
    {
      "cell_type": "code",
      "metadata": {
        "id": "CnO6NfZfNpCY"
      },
      "source": [
        "# Python3 Program to count even and\n",
        "# odd numbers present in a dictionary\n",
        "\n",
        "# Function to count even and odd\n",
        "# numbers present in a dictionary\n",
        "def countEvenOdd(dict):\n",
        "\t\n",
        "\t# Stores count of even\n",
        "\t# and odd elements\n",
        "\teven = 0\n",
        "\todd = 0\n",
        "\t\n",
        "\t# Traverse the dictionary\n",
        "\tfor i in dict.values():\n",
        "\t\t\n",
        "\t if i % 2 == 0:\n",
        "\t  even = even + 1\n",
        "\telse:\n",
        "\t\todd = odd + 1\n",
        "\t\t\n",
        "\tprint(\"Even Count: \", even)\n",
        "\tprint(\"Odd Count: \", odd)\n",
        "\n",
        "# Driver Code\n",
        "\n",
        "dict = {'a': 1, 'b': 2, 'c': 3, 'd': 4, 'e': 5}\n",
        "countEvenOdd(dict)\n"
      ],
      "execution_count": null,
      "outputs": []
    },
    {
      "cell_type": "code",
      "metadata": {
        "id": "myqW6W_8Oh6M"
      },
      "source": [
        ""
      ],
      "execution_count": null,
      "outputs": []
    }
  ]
}
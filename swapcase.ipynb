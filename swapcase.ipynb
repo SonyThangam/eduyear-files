{
  "nbformat": 4,
  "nbformat_minor": 0,
  "metadata": {
    "colab": {
      "name": "swapcase.ipynb",
      "provenance": [],
      "authorship_tag": "ABX9TyPtLNcRWTFm3AQVVJ4Cyg11",
      "include_colab_link": true
    },
    "kernelspec": {
      "name": "python3",
      "display_name": "Python 3"
    },
    "language_info": {
      "name": "python"
    }
  },
  "cells": [
    {
      "cell_type": "markdown",
      "metadata": {
        "id": "view-in-github",
        "colab_type": "text"
      },
      "source": [
        "<a href=\"https://colab.research.google.com/github/SonyThangam/eduyear-files/blob/main/swapcase.ipynb\" target=\"_parent\"><img src=\"https://colab.research.google.com/assets/colab-badge.svg\" alt=\"Open In Colab\"/></a>"
      ]
    },
    {
      "cell_type": "code",
      "metadata": {
        "colab": {
          "base_uri": "https://localhost:8080/"
        },
        "id": "SEKD_J1dLPhA",
        "outputId": "56f04912-d581-4eef-a78b-202aa5300f0e"
      },
      "source": [
        "# Python program to demonstrate the use of\n",
        "# swapcase() method\n",
        "\n",
        "string = \"EduYear\"\n",
        "\n",
        "# prints after swappong all cases\n",
        "print(string.swapcase())\n",
        "\n",
        "string = \"eduCATION\"\n",
        "print(string.swapcase())\n"
      ],
      "execution_count": 2,
      "outputs": [
        {
          "output_type": "stream",
          "text": [
            "eDUyEAR\n",
            "EDUcation\n"
          ],
          "name": "stdout"
        }
      ]
    }
  ]
}
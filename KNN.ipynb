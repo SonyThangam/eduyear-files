{
  "nbformat": 4,
  "nbformat_minor": 0,
  "metadata": {
    "colab": {
      "name": "KNN.ipynb",
      "provenance": [],
      "collapsed_sections": [],
      "authorship_tag": "ABX9TyNU5QP6IU1vEiR9KacH38uB",
      "include_colab_link": true
    },
    "kernelspec": {
      "name": "python3",
      "display_name": "Python 3"
    },
    "language_info": {
      "name": "python"
    }
  },
  "cells": [
    {
      "cell_type": "markdown",
      "metadata": {
        "id": "view-in-github",
        "colab_type": "text"
      },
      "source": [
        "<a href=\"https://colab.research.google.com/github/SonyThangam/eduyear-files/blob/main/KNN.ipynb\" target=\"_parent\"><img src=\"https://colab.research.google.com/assets/colab-badge.svg\" alt=\"Open In Colab\"/></a>"
      ]
    },
    {
      "cell_type": "code",
      "metadata": {
        "id": "4mwH_l4zyvcS"
      },
      "source": [
        "import pandas as pd\n",
        "import numpy as np"
      ],
      "execution_count": null,
      "outputs": []
    },
    {
      "cell_type": "markdown",
      "metadata": {
        "id": "hdS_hDQ7yzcS"
      },
      "source": [
        "Choose Dataset from local Directory"
      ]
    },
    {
      "cell_type": "code",
      "metadata": {
        "id": "O05HDcrszAA5"
      },
      "source": [
        "from google.colab import files\n",
        "upload = files.upload()"
      ],
      "execution_count": null,
      "outputs": []
    },
    {
      "cell_type": "markdown",
      "metadata": {
        "id": "qxjZR2jIzNBl"
      },
      "source": [
        "Laod Dataset"
      ]
    },
    {
      "cell_type": "code",
      "metadata": {
        "id": "-eoN5oUazPl3"
      },
      "source": [
        "dataset = pd.read_csv()"
      ],
      "execution_count": null,
      "outputs": []
    },
    {
      "cell_type": "markdown",
      "metadata": {
        "id": "19QC_vIOzXOE"
      },
      "source": [
        "Summarize the Dataset"
      ]
    },
    {
      "cell_type": "code",
      "metadata": {
        "id": "KPPcqUQgza1k"
      },
      "source": [
        "print(dataset.shape)\n",
        "print(dataset.head(5))\n",
        "print(dataset.tail(5))"
      ],
      "execution_count": null,
      "outputs": []
    }
  ]
}
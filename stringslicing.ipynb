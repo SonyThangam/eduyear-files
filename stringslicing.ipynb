{
  "nbformat": 4,
  "nbformat_minor": 0,
  "metadata": {
    "colab": {
      "name": "stringslicing.ipynb",
      "provenance": [],
      "authorship_tag": "ABX9TyNObM4zgObl0aSFUEnHcgwO",
      "include_colab_link": true
    },
    "kernelspec": {
      "name": "python3",
      "display_name": "Python 3"
    },
    "language_info": {
      "name": "python"
    }
  },
  "cells": [
    {
      "cell_type": "markdown",
      "metadata": {
        "id": "view-in-github",
        "colab_type": "text"
      },
      "source": [
        "<a href=\"https://colab.research.google.com/github/SonyThangam/eduyear-files/blob/main/stringslicing.ipynb\" target=\"_parent\"><img src=\"https://colab.research.google.com/assets/colab-badge.svg\" alt=\"Open In Colab\"/></a>"
      ]
    },
    {
      "cell_type": "code",
      "metadata": {
        "colab": {
          "base_uri": "https://localhost:8080/"
        },
        "id": "Tb97MWaJMS_X",
        "outputId": "3cda1055-dbb3-4708-f850-a77cb9e47f39"
      },
      "source": [
        "# Python Program to\n",
        "# demonstrate String slicing\n",
        "\n",
        "# Creating a String\n",
        "String1 = \"EduyearEducation\"\n",
        "print(\"Initial String: \")\n",
        "print(String1)\n",
        "\n",
        "# Printing 3rd to 15th character\n",
        "print(\"\\nSlicing characters from 3-15: \")\n",
        "print(String1[3:15])\n",
        "\n",
        "# Printing characters between\n",
        "# 3rd and 2nd last character\n",
        "print(\"\\nSlicing characters between \" +\n",
        "\t\"3rd and 2nd last character: \")\n",
        "print(String1[3:-2])\n"
      ],
      "execution_count": 2,
      "outputs": [
        {
          "output_type": "stream",
          "text": [
            "Initial String: \n",
            "EduyearEducation\n",
            "\n",
            "Slicing characters from 3-15: \n",
            "yearEducatio\n",
            "\n",
            "Slicing characters between 3rd and 2nd last character: \n",
            "yearEducati\n"
          ],
          "name": "stdout"
        }
      ]
    }
  ]
}
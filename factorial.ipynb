{
  "nbformat": 4,
  "nbformat_minor": 0,
  "metadata": {
    "colab": {
      "name": "factorial.ipynb",
      "provenance": [],
      "authorship_tag": "ABX9TyNkEpQiD4AR8DPhBpMPJSEo",
      "include_colab_link": true
    },
    "kernelspec": {
      "name": "python3",
      "display_name": "Python 3"
    },
    "language_info": {
      "name": "python"
    }
  },
  "cells": [
    {
      "cell_type": "markdown",
      "metadata": {
        "id": "view-in-github",
        "colab_type": "text"
      },
      "source": [
        "<a href=\"https://colab.research.google.com/github/SonyThangam/eduyear-files/blob/main/factorial.ipynb\" target=\"_parent\"><img src=\"https://colab.research.google.com/assets/colab-badge.svg\" alt=\"Open In Colab\"/></a>"
      ]
    },
    {
      "cell_type": "code",
      "metadata": {
        "colab": {
          "base_uri": "https://localhost:8080/"
        },
        "id": "ZFg5cpQhCtsG",
        "outputId": "7c623e37-b2b9-408d-fd96-963434f03afe"
      },
      "source": [
        "num = int(input(\"enter a number: \"))\n",
        " \n",
        "fac = 1\n",
        " \n",
        "for i in range(1, num + 1):\n",
        "  fac = fac * i\n",
        " \n",
        "print(\"factorial of \", num, \" is \", fac)"
      ],
      "execution_count": 2,
      "outputs": [
        {
          "output_type": "stream",
          "text": [
            "enter a number: 5\n",
            "factorial of  5  is  120\n"
          ],
          "name": "stdout"
        }
      ]
    }
  ]
}